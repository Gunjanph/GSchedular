{
 "cells": [
  {
   "cell_type": "code",
   "execution_count": 1,
   "metadata": {},
   "outputs": [],
   "source": [
    "import os\n",
    "import requests,sys,webbrowser,bs4\n",
    "import urllib\n",
    "import re\n",
    "import time\n",
    "from bs4 import BeautifulSoup\n",
    "import cv2"
   ]
  },
  {
   "cell_type": "code",
   "execution_count": 2,
   "metadata": {},
   "outputs": [],
   "source": [
    "from selenium import webdriver\n",
    "\n",
    "from selenium.webdriver.common.action_chains import ActionChains\n",
    "from selenium.webdriver.common.keys import Keys\n",
    "\n",
    "from selenium.webdriver.chrome.options import Options\n",
    "chrome_options = Options() \n",
    "# chrome_options.add_argument('--headless')\n",
    "# chrome_options.add_argument('--no-sandbox')\n",
    "# chrome_options.add_argument('--disable-dev-shm-usage')\n",
    "mobile_emulation = { \"deviceName\": \"Galaxy S5\" }\n",
    "# chrome_options = webdriver.ChromeOptions()\n",
    "chrome_options.add_experimental_option(\"mobileEmulation\", mobile_emulation)\n",
    "# driver = webdriver.Remote(command_executor='http://127.0.0.1:4444/wd/hub',\n",
    "                        #  desired_capabilities = chrome_options.to_capabilities())\n"
   ]
  },
  {
   "cell_type": "code",
   "execution_count": 4,
   "metadata": {},
   "outputs": [],
   "source": [
    "username=\"autopostscheduler\"\n",
    "password=\"okmijnuhb\"\n",
    "\n"
   ]
  },
  {
   "cell_type": "code",
   "execution_count": 6,
   "metadata": {},
   "outputs": [
    {
     "name": "stdout",
     "output_type": "stream",
     "text": [
      "Step 0\n",
      "Log In Done!!\n",
      "aOOlW Loading...\n",
      "aOOlW Loading...\n",
      "File Selector\n",
      "Done\n"
     ]
    }
   ],
   "source": [
    "#\n",
    "driver = webdriver.Chrome(executable_path=r\"./chromedriver\",options=chrome_options)\n",
    "driver.get(\"https://www.instagram.com/\")\n",
    "\n",
    "\n",
    "element = driver.find_element_by_xpath(\"//button[text() = 'Log In']\")\n",
    "element.click() \n",
    "\n",
    "\n",
    "print(\"Step 0\")\n",
    "\n",
    "while(len(driver.find_elements_by_xpath(\"//input[@name='username']\"))==0):\n",
    "    time.sleep(1)\n",
    "    print('Loading...')\n",
    "\n",
    "username_button = driver.find_element_by_xpath(\"//input[@name='username']\")\n",
    "username_button.send_keys(username)\n",
    "pass_button = driver.find_element_by_xpath(\"//input[@name='password']\")\n",
    "pass_button.send_keys(password)\n",
    "while(len(driver.find_elements_by_xpath(\"//button[@class='sqdOP  L3NKy   y3zKF     ']\"))==0):\n",
    "    time.sleep(1)\n",
    "    print('Loading...')\n",
    "element = driver.find_elements_by_xpath(\"//button[@class='sqdOP  L3NKy   y3zKF     ']\")\n",
    "element[1].click() \n",
    "\n",
    "print(\"Log In Done!!\")\n",
    "\n",
    "time.sleep(10)\n",
    "\n",
    "while(len(driver.find_elements_by_xpath(\"//button[@class='sqdOP  L3NKy   y3zKF     ']\"))==0):\n",
    "    time.sleep(1)\n",
    "    print('sqdOP Loading...')\n",
    "\n",
    "element = driver.find_element_by_xpath(\"//button[@class='sqdOP  L3NKy   y3zKF     ']\")\n",
    "element.click() \n",
    "\n",
    "while(len(driver.find_elements_by_xpath(\"//button[@class='aOOlW   HoLwm ']\"))==0):\n",
    "    time.sleep(1)\n",
    "    print('aOOlW Loading...')\n",
    "\n",
    "element=driver.find_element_by_xpath(\"//button[@class='aOOlW   HoLwm ']\")\n",
    "element.click() \n",
    "\n",
    "\n",
    "\n",
    "\n",
    "\n",
    "element=driver.find_element_by_xpath(\"//div[@class='q02Nz _0TPg']\")\n",
    "element.click()\n",
    "# element.send_keys(os.getcwd()+\"/Test1.png\") \n",
    "\n",
    "print(\"File Selector\")\n",
    "\n",
    "os.system('autokey-run -s select_image')\n",
    "time.sleep(10)\n",
    "print(\"Done\")"
   ]
  },
  {
   "cell_type": "code",
   "execution_count": null,
   "metadata": {},
   "outputs": [],
   "source": [
    "element.click()"
   ]
  }
 ],
 "metadata": {
  "kernelspec": {
   "display_name": "Python 3",
   "language": "python",
   "name": "python3"
  },
  "language_info": {
   "codemirror_mode": {
    "name": "ipython",
    "version": 3
   },
   "file_extension": ".py",
   "mimetype": "text/x-python",
   "name": "python",
   "nbconvert_exporter": "python",
   "pygments_lexer": "ipython3",
   "version": "3.7.6"
  }
 },
 "nbformat": 4,
 "nbformat_minor": 4
}
